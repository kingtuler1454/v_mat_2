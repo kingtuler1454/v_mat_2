{
 "cells": [
  {
   "cell_type": "markdown",
   "metadata": {},
   "source": [
    "Лабораторная работа 2, Сахаровой Дарьи, 6313-100503D \n",
    "\"Нормы, разложение матриц\"\n",
    "Вариант 7"
   ]
  },
  {
   "cell_type": "code",
   "execution_count": 52,
   "metadata": {},
   "outputs": [],
   "source": [
    "import numpy as np"
   ]
  },
  {
   "cell_type": "markdown",
   "metadata": {},
   "source": [
    "Задание 1 - Скалярное произведение"
   ]
  },
  {
   "cell_type": "code",
   "execution_count": 89,
   "metadata": {},
   "outputs": [
    {
     "name": "stdout",
     "output_type": "stream",
     "text": [
      "\t\tМатрица:\n",
      " [[2.0253 2.952  2.8804 3.3155 3.9087 2.868  2.5554 3.0515]\n",
      " [2.4306 2.1902 2.3833 3.3065 3.7742 3.1767 3.1218 3.4847]\n",
      " [3.6522 2.4232 2.707  3.8981 2.203  2.1024 2.3351 2.5916]\n",
      " [2.9128 2.9017 3.4746 3.9237 3.6563 3.1552 3.7873 3.0646]\n",
      " [2.218  2.1429 2.3255 2.9631 3.7211 2.7581 3.1523 2.3282]\n",
      " [3.0149 2.3665 3.652  2.3319 2.243  2.1843 2.404  2.8904]\n",
      " [3.3813 2.4382 3.7786 3.0266 2.9706 3.7605 3.8624 2.5355]\n",
      " [3.5541 3.0811 3.9488 2.3341 3.2669 3.4475 3.7188 3.4872]]\n",
      "\n",
      "Скалярное произведение 3 строки на 8 столбец: 64.7139863583093\n"
     ]
    }
   ],
   "source": [
    "# Генерация случайных вещественных чисел из интервала (2,4)\n",
    "# матрица размером 8 на 8\n",
    "# используется равн.распределение\n",
    "A = np.random.uniform(2, 4, (8, 8))\n",
    "\n",
    "# Нахождение скалярного произведения 3 строки на 8 столбец\n",
    "# Используя срезы матриц\n",
    "scalar_product = np.dot(A[2,:], A[:,7])\n",
    "\n",
    "print(\"\\t\\tМатрица:\\n\",A)\n",
    "print(\"\\nСкалярное произведение 3 строки на 8 столбец:\", scalar_product)"
   ]
  },
  {
   "cell_type": "markdown",
   "metadata": {},
   "source": [
    "Задание 2 - Произведение двух матриц тремя способами\n",
    "\n",
    "(целые числа из отрезка(!) [-2,6])"
   ]
  },
  {
   "cell_type": "code",
   "execution_count": 93,
   "metadata": {},
   "outputs": [
    {
     "name": "stdout",
     "output_type": "stream",
     "text": [
      "\tМатрица 1:\n",
      " [[ 5  5  1  6  5  5]\n",
      " [ 4  1 -2  2  3  5]\n",
      " [ 4  1  0  0 -1  3]] \n",
      "\n",
      "\tМатрица 2:\n",
      " [[ 5  6  5  6 -1]\n",
      " [-1  6 -2  0  1]\n",
      " [-1  2 -2 -1  1]\n",
      " [-1 -1  4  1  1]\n",
      " [ 5  6  6  6 -2]\n",
      " [ 6  2  4  6  2]]\n",
      "\n",
      "\tСкалярный (поэлементный) алгоритм:\n",
      " [[68 96 87 95  7]\n",
      " [64 52 68 76  1]\n",
      " [32 30 24 36  5]]\n",
      "\n",
      "\tВекторный алгоритм:\n",
      " [[68 96 87 95  7]\n",
      " [64 52 68 76  1]\n",
      " [32 30 24 36  5]]\n",
      "\n",
      "\tС помощью np.dot:\n",
      " [[68 96 87 95  7]\n",
      " [64 52 68 76  1]\n",
      " [32 30 24 36  5]]\n"
     ]
    }
   ],
   "source": [
    "matrix_1 = np.random.randint(-2, 7, (3, 6))\n",
    "matrix_2 = np.random.randint(-2, 7, (6, 5))\n",
    "\n",
    "print(\"\\tМатрица 1:\\n\", matrix_1, \"\\n\\n\\tМатрица 2:\\n\", matrix_2)\n",
    "\n",
    "res_1 = np.zeros((3,5), dtype = int)\n",
    "for i in range(3):\n",
    "    for j in range(5):\n",
    "        for p in range(6):\n",
    "            res_1[i,j] = res_1[i,j] + matrix_1[i,p]*matrix_2[p,j]\n",
    "print(\"\\n\\tСкалярный (поэлементный) алгоритм:\\n\", res_1)\n",
    "\n",
    "# Способ 2\n",
    "# for k in range(3):\n",
    "#     for j in range(5):\n",
    "#         res_2[k,j] = sum(matrix_1[k,i]*matrix_2[i,j] for i in range(6))\n",
    "\n",
    "res_2 = np.zeros((3,5), dtype = int)\n",
    "for k in range(3):\n",
    "    for j in range(5):\n",
    "        res_2[k,j] = np.dot(matrix_1[k,:], matrix_2[:,j])\n",
    "print(\"\\n\\tВекторный алгоритм:\\n\", res_2)\n",
    "\n",
    "res_3 = np.dot(matrix_1, matrix_2)\n",
    "print(\"\\n\\tС помощью np.dot:\\n\", res_3)\n"
   ]
  },
  {
   "cell_type": "markdown",
   "metadata": {},
   "source": [
    "Задание 3 - Вычисление нормы вектора-строки"
   ]
  },
  {
   "cell_type": "code",
   "execution_count": 91,
   "metadata": {},
   "outputs": [
    {
     "name": "stdout",
     "output_type": "stream",
     "text": [
      "Вектор -  [-64  40   8  22  25  16 -37  51  43]\n",
      "\n",
      "С помощью собственной функции -  113.77170122662314\n",
      "С помощью linalg.norm -  113.77170122662314\n"
     ]
    }
   ],
   "source": [
    "# вторая норма - корень из суммы квадратов всех чисел\n",
    "def norm_2(vector):\n",
    "    norm_sum = 0\n",
    "    for i in vector:\n",
    "        norm_sum += i**2\n",
    "    return norm_sum**(1/2)\n",
    "\n",
    "vector_task_3 = np.random.randint(-100, 100, 9)\n",
    "print(\"Вектор - \", vector_task_3)\n",
    "print(\"\\nС помощью собственной функции - \", norm_2(vector_task_3))\n",
    "print(\"С помощью linalg.norm - \", np.linalg.norm(vector_task_3, ord=2))"
   ]
  },
  {
   "cell_type": "markdown",
   "metadata": {},
   "source": [
    "Задание 4 - Вычисление нормы матрицы"
   ]
  },
  {
   "cell_type": "code",
   "execution_count": 97,
   "metadata": {},
   "outputs": [
    {
     "name": "stdout",
     "output_type": "stream",
     "text": [
      "\tМатрица :\n",
      " [[ 4  6 -1]\n",
      " [ 3  0  4]\n",
      " [ 3 -2 -1]]\n",
      "\n",
      "С помощью собственной функции -  11\n",
      "С помощью linalg.norm -  11.0\n"
     ]
    }
   ],
   "source": [
    "# бесконечная норма матрицы - максимум из суммы модулей по всем СТРОКАМ\n",
    "def norm_inf(matrix):\n",
    "    max_norm = 0\n",
    "    for row in matrix:\n",
    "        row_norm = sum(abs(i) for i in row) # вычисление суммы каждой строки\n",
    "        if row_norm > max_norm:\n",
    "            max_norm = row_norm\n",
    "    return max_norm\n",
    "\n",
    "# создание матрицы \n",
    "matrix_task_4 = np.random.randint(-2, 7, (3, 3))\n",
    "\n",
    "print(\"\\tМатрица :\\n\", matrix_task_4)\n",
    "print(\"\\nС помощью собственной функции - \", norm_inf(matrix_task_4))\n",
    "print(\"С помощью linalg.norm - \", np.linalg.norm(matrix_task_4, ord=np.inf))"
   ]
  },
  {
   "cell_type": "markdown",
   "metadata": {},
   "source": [
    "Задание 5 - отражение Хаусхолдера для вектора"
   ]
  },
  {
   "cell_type": "code",
   "execution_count": 57,
   "metadata": {},
   "outputs": [
    {
     "name": "stdout",
     "output_type": "stream",
     "text": [
      "Вектор-строка: [-49  46 -57  18 -99  -5 -48   0  82]\n",
      "Отражение Хаусхолдера: [[ 1.          0.          0.          0.          0.          0.\n",
      "   0.          0.          0.        ]\n",
      " [ 0.          1.          0.          0.          0.          0.\n",
      "   0.          0.          0.        ]\n",
      " [ 0.          0.          0.24474903  0.23850031 -1.31175168 -0.06625009\n",
      "  -0.63600082  0.          1.0865014 ]\n",
      " [ 0.          0.          0.23850031  0.92468411  0.41423737  0.02092108\n",
      "   0.20084236  0.         -0.3431057 ]\n",
      " [ 0.          0.         -1.31175168  0.41423737 -1.27830556 -0.11506594\n",
      "  -1.104633    0.          1.88708137]\n",
      " [ 0.          0.         -0.06625009  0.02092108 -0.11506594  0.99418859\n",
      "  -0.05578955  0.          0.09530714]\n",
      " [ 0.          0.         -0.63600082  0.20084236 -1.104633   -0.05578955\n",
      "   0.46442036  0.          0.91494854]\n",
      " [ 0.          0.          0.          0.          0.          0.\n",
      "   0.          1.          0.        ]\n",
      " [ 0.          0.          1.0865014  -0.3431057   1.88708137  0.09530714\n",
      "   0.91494854  0.         -0.56303709]]\n",
      "Отраженный вектор-строка: [ -49.           46.          240.15813158  -75.83940997  417.11675485\n",
      "   21.06650277  202.23842659    0.         -345.49064543]\n"
     ]
    }
   ],
   "source": [
    "\n",
    "v = np.zeros(9)\n",
    "v[2:] = vector_task_3[2:]\n",
    "\n",
    "# Вычисляем норму вектора нормали\n",
    "norm_v = np.linalg.norm(v)\n",
    "\n",
    "# Определяем вектор отражения\n",
    "u = v / (v[2] + norm_v)\n",
    "\n",
    "# Вычисляем матрицу отражения Хаусхолдера\n",
    "H = np.eye(9) - 2 * np.outer(u, u)\n",
    "\n",
    "# Применяем матрицу отражения к вектору-строке\n",
    "reflected_vector = np.dot(H, vector_task_3)\n",
    "\n",
    "print(\"Вектор-строка:\", vector_task_3)\n",
    "print(\"Отражение Хаусхолдера:\", H)\n",
    "print(\"Отраженный вектор-строка:\", reflected_vector)"
   ]
  },
  {
   "cell_type": "markdown",
   "metadata": {},
   "source": [
    "Задание 6 -  LU разложение матрицы"
   ]
  },
  {
   "cell_type": "code",
   "execution_count": 58,
   "metadata": {},
   "outputs": [
    {
     "name": "stdout",
     "output_type": "stream",
     "text": [
      "Исходная матрица:\n",
      " [[-2  0 -2]\n",
      " [ 3 -2  0]\n",
      " [ 6  0  2]]\n",
      "\n",
      "Матрица L:\n",
      " [[ 1.   0.   0. ]\n",
      " [-1.5  1.   0. ]\n",
      " [-3.  -0.   1. ]]\n",
      "\n",
      "Матрица U:\n",
      " [[-2  0 -2]\n",
      " [ 0 -2 -3]\n",
      " [ 0  0 -4]]\n",
      "\n",
      "Результат перемножения матриц L и U (проверка):\n",
      " [[-2.  0. -2.]\n",
      " [ 3. -2.  0.]\n",
      " [ 6.  0.  2.]]\n"
     ]
    }
   ],
   "source": [
    "def LU_decomposition(matrix):\n",
    "    n = matrix.shape[0]\n",
    "    L = np.eye(n)\n",
    "    U = np.copy(matrix)\n",
    "\n",
    "    for k in range(n-1):\n",
    "        for i in range(k+1, n):\n",
    "            L[i, k] = U[i, k] / U[k, k]\n",
    "            for j in range(k, n):\n",
    "                U[i, j] -= L[i, k] * U[k, j]\n",
    "                \n",
    "    return L, U\n",
    "\n",
    "L, U = LU_decomposition(matrix_task_4)\n",
    "\n",
    "print(\"Исходная матрица:\\n\", matrix_task_4)\n",
    "print(\"\\nМатрица L:\\n\", L)\n",
    "print(\"\\nМатрица U:\\n\", U)\n",
    "\n",
    "# Проверка с помощью перемножения матриц\n",
    "result = np.dot(L, U)\n",
    "print(\"\\nРезультат перемножения матриц L и U (проверка):\\n\", result)"
   ]
  },
  {
   "cell_type": "markdown",
   "metadata": {},
   "source": [
    "Задание 7 - QR разложение матрицы"
   ]
  },
  {
   "cell_type": "code",
   "execution_count": 112,
   "metadata": {},
   "outputs": [
    {
     "name": "stdout",
     "output_type": "stream",
     "text": [
      "Матрица исходная:\n",
      " [[ 4.  6. -1.]\n",
      " [ 3.  0.  4.]\n",
      " [ 3. -2. -1.]]\n",
      "\n",
      "Матрица Q (Грама-Шмидта):\n",
      " [[ 0.686   0.7033 -0.1864]\n",
      " [ 0.5145 -0.2877  0.8078]\n",
      " [ 0.5145 -0.65   -0.5592]]\n",
      "\n",
      "Матрица R (Грама-Шмидта):\n",
      " [[ 5.831   3.087   0.8575]\n",
      " [ 0.      5.52   -1.2042]\n",
      " [ 0.      0.      3.9768]]\n",
      "\n",
      "Результат перемножения матриц Q и R (Грама-Шмидта):\n",
      " [[ 4.  6. -1.]\n",
      " [ 3. -0.  4.]\n",
      " [ 3. -2. -1.]]\n"
     ]
    }
   ],
   "source": [
    "np.set_printoptions(precision=4, suppress=True) # 4 знака после зарятой\n",
    "\n",
    "matrix_7 = matrix_task_4.astype(float) # меняем тип с int на float\n",
    "\n",
    "# метод Грама-Шмидта\n",
    "def gram_schmidt(matrix):\n",
    "    n = matrix.shape[1]\n",
    "    Q = np.zeros_like(matrix)\n",
    "    R = np.zeros((n, n))\n",
    "\n",
    "    for j in range(n):\n",
    "        v = matrix[:, j]\n",
    "        for i in range(j):\n",
    "            R[i, j] = np.dot(Q[:, i], matrix[:, j])\n",
    "            v -= R[i, j] * Q[:, i]\n",
    "        R[j, j] = np.linalg.norm(v)\n",
    "        Q[:, j] = v / R[j, j]\n",
    "\n",
    "    return Q, R\n",
    "\n",
    "print(\"Матрица исходная:\\n\", matrix_7)\n",
    "\n",
    "# находим QR разложение\n",
    "Q_1, R_1 = gram_schmidt(matrix_7)\n",
    "print(\"\\nМатрица Q (Грама-Шмидта):\\n\", Q_1)\n",
    "print(\"\\nМатрица R (Грама-Шмидта):\\n\", R_1)\n",
    "\n",
    "# Проверка с помощью перемножения матриц\n",
    "print(\"\\nРезультат перемножения матриц Q и R (Грама-Шмидта):\\n\", np.dot(Q_1, R_1))"
   ]
  },
  {
   "cell_type": "code",
   "execution_count": 110,
   "metadata": {},
   "outputs": [
    {
     "name": "stdout",
     "output_type": "stream",
     "text": [
      "Матрица исходная:\n",
      " [[ 4.  6. -1.]\n",
      " [ 3.  0.  4.]\n",
      " [ 3. -2. -1.]]\n",
      "\n",
      "Матрица Q (Хаусхолдера):\n",
      " [[ 0.686   0.7033 -0.1864]\n",
      " [ 0.5145 -0.2877  0.8078]\n",
      " [ 0.5145 -0.65   -0.5592]]\n",
      "\n",
      "Матрица R (Хаусхолдера):\n",
      " [[ 5.831   3.087   0.8575]\n",
      " [ 0.      5.52   -1.2042]\n",
      " [-0.      0.      3.9768]]\n",
      "\n",
      "Результат перемножения матриц Q и R (Хаусхолдера):\n",
      " [[ 4.  6. -1.]\n",
      " [ 3.  0.  4.]\n",
      " [ 3. -2. -1.]]\n"
     ]
    }
   ],
   "source": [
    "matrix_7 = matrix_task_4.astype(float) # меняем тип с int на float\n",
    "\n",
    "# метод Хаусхолдера (отражений)\n",
    "def householder(matrix):\n",
    "    (r, c) = np.shape(matrix)\n",
    "    Q = np.identity(r)\n",
    "    R = np.copy(matrix)\n",
    "\n",
    "    for i in range(r - 1):\n",
    "        x = R[i:, i]\n",
    "        e = np.zeros_like(x)\n",
    "        e[0] = np.linalg.norm(x)\n",
    "        u = x - e\n",
    "        v = u / np.linalg.norm(u)\n",
    "        Q_i = np.identity(r)\n",
    "        Q_i[i:, i:] -= 2.0 * np.outer(v, v)\n",
    "        R = np.dot(Q_i, R)\n",
    "        Q = np.dot(Q, Q_i)\n",
    "\n",
    "    return Q, R\n",
    "\n",
    "print(\"Матрица исходная:\\n\", matrix_7)\n",
    "\n",
    "# находим QR разложение\n",
    "Q_2, R_2 = householder(matrix_7)\n",
    "print(\"\\nМатрица Q (Хаусхолдера):\\n\", Q_2)\n",
    "print(\"\\nМатрица R (Хаусхолдера):\\n\", R_2)\n",
    "\n",
    "# Проверка с помощью перемножения матриц\n",
    "print(\"\\nРезультат перемножения матриц Q и R (Хаусхолдера):\\n\", np.dot(Q_2, R_2))"
   ]
  },
  {
   "cell_type": "code",
   "execution_count": 114,
   "metadata": {},
   "outputs": [
    {
     "name": "stdout",
     "output_type": "stream",
     "text": [
      "Матрица исходная:\n",
      " [[ 4.  6. -1.]\n",
      " [ 3.  0.  4.]\n",
      " [ 3. -2. -1.]]\n",
      "\n",
      "Матрица Q (Гивенса):\n",
      " [[ 0.686   0.7033 -0.1864]\n",
      " [ 0.5145 -0.2877  0.8078]\n",
      " [ 0.5145 -0.65   -0.5592]]\n",
      "\n",
      "Матрица R (Гивенса):\n",
      " [[ 5.831   3.087   0.8575]\n",
      " [-0.      5.52   -1.2042]\n",
      " [ 0.     -0.      3.9768]]\n",
      "\n",
      "Результат перемножения матриц Q и R (Гивенса):\n",
      " [[ 4.  6. -1.]\n",
      " [ 3.  0.  4.]\n",
      " [ 3. -2. -1.]]\n"
     ]
    }
   ],
   "source": [
    "matrix_7 = matrix_task_4.astype(float) # меняем тип с int на float\n",
    "\n",
    "# метод Гивенса (вращений)\n",
    "def givens(matrix):\n",
    "    (r, c) = np.shape(matrix)\n",
    "    Q = np.identity(r)\n",
    "    R = np.copy(matrix)\n",
    "    (rows, cols) = np.tril_indices(r, -1, c)\n",
    "\n",
    "    for (row, col) in zip(rows, cols):\n",
    "        if R[row, col] != 0:\n",
    "            r_ = np.hypot(R[col, col], R[row, col])\n",
    "            c = R[col, col]/r_\n",
    "            s = -R[row, col]/r_\n",
    "            G = np.identity(r)\n",
    "            G[[col, row], [col, row]] = c\n",
    "            G[row, col] = s\n",
    "            G[col, row] = -s\n",
    "            R = np.dot(G, R)\n",
    "            Q = np.dot(Q, G.T)\n",
    "\n",
    "    return Q, R\n",
    "\n",
    "\n",
    "print(\"Матрица исходная:\\n\", matrix_7)\n",
    "\n",
    "# находим QR разложение\n",
    "Q_3, R_3 = givens(matrix_7)\n",
    "print(\"\\nМатрица Q (Гивенса):\\n\", Q_3)\n",
    "print(\"\\nМатрица R (Гивенса):\\n\", R_3)\n",
    "\n",
    "# Проверка с помощью перемножения матриц\n",
    "result_method_3 = np.dot(Q_3, R_3)\n",
    "print(\"\\nРезультат перемножения матриц Q и R (Гивенса):\\n\", np.dot(Q_3, R_3))\n"
   ]
  },
  {
   "cell_type": "code",
   "execution_count": 115,
   "metadata": {},
   "outputs": [
    {
     "name": "stdout",
     "output_type": "stream",
     "text": [
      "Матрица исходная:\n",
      " [[ 4.  6. -1.]\n",
      " [ 3.  0.  4.]\n",
      " [ 3. -2. -1.]]\n",
      "\n",
      "\tNumPy\n",
      "\n",
      "Матрица Q:\n",
      " [[-0.686   0.7033  0.1864]\n",
      " [-0.5145 -0.2877 -0.8078]\n",
      " [-0.5145 -0.65    0.5592]]\n",
      "\n",
      "Матрица R:\n",
      " [[-5.831  -3.087  -0.8575]\n",
      " [ 0.      5.52   -1.2042]\n",
      " [ 0.      0.     -3.9768]]\n",
      "\n",
      " [[ 4.  6. -1.]\n",
      " [ 3.  0.  4.]\n",
      " [ 3. -2. -1.]]\n"
     ]
    }
   ],
   "source": [
    "matrix_7 = matrix_task_4.astype(float) # меняем тип с int на float\n",
    "\n",
    "print(\"Матрица исходная:\\n\", matrix_7)\n",
    "\n",
    "# Проверка с помощью функции np.linalg.qr\n",
    "Q_np, R_np = np.linalg.qr(matrix_7)\n",
    "print(\"\\n\\tNumPy\\n\\nМатрица Q:\\n\", Q_np)\n",
    "print(\"\\nМатрица R:\\n\", R_np)\n",
    "print(\"\\n\", np.dot(Q_np, R_np))"
   ]
  }
 ],
 "metadata": {
  "kernelspec": {
   "display_name": "Python 3",
   "language": "python",
   "name": "python3"
  },
  "language_info": {
   "codemirror_mode": {
    "name": "ipython",
    "version": 3
   },
   "file_extension": ".py",
   "mimetype": "text/x-python",
   "name": "python",
   "nbconvert_exporter": "python",
   "pygments_lexer": "ipython3",
   "version": "3.11.5"
  },
  "orig_nbformat": 4
 },
 "nbformat": 4,
 "nbformat_minor": 2
}
