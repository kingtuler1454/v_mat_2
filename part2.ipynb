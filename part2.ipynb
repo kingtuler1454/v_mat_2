{
 "cells": [
  {
   "cell_type": "markdown",
   "metadata": {},
   "source": [
    "вариант 6 Морозов Сергей"
   ]
  },
  {
   "cell_type": "code",
   "execution_count": 1,
   "metadata": {},
   "outputs": [],
   "source": [
    "import numpy as np\n",
    "import scipy"
   ]
  },
  {
   "cell_type": "markdown",
   "metadata": {},
   "source": [
    "1Создать произвольную верхнетреугольную матрицу А 5 по-рядка   (не   унитреугольную),   вектор  B  произвольный.   Решить   си-стему AX =  B"
   ]
  },
  {
   "cell_type": "code",
   "execution_count": 2,
   "metadata": {},
   "outputs": [
    {
     "name": "stdout",
     "output_type": "stream",
     "text": [
      "Решение X:\n",
      "[ 7.33333333 -2.          0.5        -3.          3.        ]\n"
     ]
    }
   ],
   "source": [
    "# Создание произвольной верхнетреугольной матрицы A 5x5\n",
    "A = np.array([[3, 1, 2, 4, 2],\n",
    "              [0, 2, 0, 1, 5],\n",
    "              [0, 0, 4, 0, 3],\n",
    "              [0, 0, 0, 2, 6],\n",
    "              [0, 0, 0, 0, 1]])\n",
    "\n",
    "# Создание произвольного вектора B\n",
    "B = np.array([15, 8, 11, 12, 3])\n",
    "\n",
    "# Решение системы AX = B с помощью обратной подстановки\n",
    "n = len(B)\n",
    "X = np.zeros(n)\n",
    "\n",
    "for i in range(n - 1, -1, -1):\n",
    "    X[i] = (B[i] - np.dot(A[i, i+1:], X[i+1:])) / A[i, i]\n",
    "\n",
    "print(\"Решение X:\")\n",
    "print(X)"
   ]
  },
  {
   "cell_type": "markdown",
   "metadata": {},
   "source": [
    "2Решить систему, используя LU   разложение\n",
    "4.3x1−12.1x2+23.2x3−14.1x4=15.5\n",
    "2.4x1−4.4x2+3.5x3+5.5x4=2.5\n",
    "5.4x1+8.3x2−7.4x3−12.7x4=8.6\n",
    "6.3x1−7.6x2+1.34x3+3.7x4=12.1"
   ]
  },
  {
   "cell_type": "code",
   "execution_count": 6,
   "metadata": {},
   "outputs": [
    {
     "name": "stdout",
     "output_type": "stream",
     "text": [
      "Решение X:\n",
      "[ 1.17377014 -0.97122206 -0.40615705 -0.57615922]\n"
     ]
    }
   ],
   "source": [
    "# Функция для вычисления LU-разложения\n",
    "def lu_decomposition(matrix):\n",
    "    n = matrix.shape[0]\n",
    "    L = np.eye(n)  # Создаем начальную матрицу L как единичную\n",
    "    U = matrix.copy()  # Создаем копию исходной матрицы для U\n",
    "\n",
    "    for key in range(n):\n",
    "        for i in range(key+1, n):\n",
    "            if U[key, key] == 0:\n",
    "                raise ValueError(\"LU-разложение невозможно: ведущий элемент равен нулю.\")\n",
    "            factor = U[i, key] / U[key, key]\n",
    "            L[i, key] = factor\n",
    "            U[i, key:] -= factor * U[key, key:]\n",
    "\n",
    "    return L, U\n",
    "\n",
    "# Матрица коэффициентов системы\n",
    "A = np.array([[4.3, -12.1, 23.2, -14.1],\n",
    "              [2.4, -4.4, 3.5, 5.5],\n",
    "              [5.4, 8.3, -7.4, -12.7],\n",
    "              [6.3, -7.6, 1.34, 3.7]])\n",
    "\n",
    "# Вектор правой части\n",
    "B = np.array([15.5, 2.5, 8.6, 12.1])\n",
    "\n",
    "# Выполним LU-разложение матрицы A\n",
    "L, U = lu_decomposition(A)\n",
    "\n",
    "U_inverse = np.linalg.inv(U)\n",
    "L_inverse = np.linalg.inv(L)\n",
    "Y = L_inverse.dot(B)\n",
    "X_lu = U_inverse.dot(Y)\n",
    "print(\"Решение X:\")\n",
    "print(X_lu)"
   ]
  },
  {
   "cell_type": "markdown",
   "metadata": {},
   "source": [
    "3Решить   систему  из   пункта   2   с   помощью  QR  разложенияматрицы А. QR разложение найти методом Гивенса. Проверить по-лученное решение непосредственной подстановкой в исходную си-стему, а также методом np.solve."
   ]
  },
  {
   "cell_type": "code",
   "execution_count": 10,
   "metadata": {},
   "outputs": [
    {
     "name": "stdout",
     "output_type": "stream",
     "text": [
      "Ответ: [ 1.17377014 -0.97122206 -0.40615705 -0.57615922]\n",
      "Проверка непосредственной подстановкой: Решение верно.\n",
      "Проверка с использованием np.linalg.solve: Решение верно.\n"
     ]
    }
   ],
   "source": [
    "matrix_A_float = A.astype(float) # меняем тип с int на float\n",
    "\n",
    "# метод Гивенса (вращений)\n",
    "def givens(matrix):\n",
    "    (r, c) = np.shape(matrix)\n",
    "    Q = np.identity(r)\n",
    "    R = np.copy(matrix)\n",
    "    (rows, cols) = np.tril_indices(r, -1, c)\n",
    "\n",
    "    for (row, col) in zip(rows, cols):\n",
    "        if R[row, col] != 0:\n",
    "            r_ = np.hypot(R[col, col], R[row, col])\n",
    "            c = R[col, col]/r_\n",
    "            s = -R[row, col]/r_\n",
    "            G = np.identity(r)\n",
    "            G[[col, row], [col, row]] = c\n",
    "            G[row, col] = s\n",
    "            G[col, row] = -s\n",
    "            R = np.dot(G, R)\n",
    "            Q = np.dot(Q, G.T)\n",
    "\n",
    "    return Q, R\n",
    "\n",
    "\n",
    "# находим QR разложение\n",
    "Q, R= givens(matrix_A_float)\n",
    "R_inverse = np.linalg.inv(R)\n",
    "Q_inverse = np.linalg.inv(Q)\n",
    "Y = Q_inverse.dot(B)#  Y = (Q^-1)*B\n",
    "x = R_inverse.dot(Y)# X = (R^-1)*Y\n",
    "print(\"Ответ: \"+str(x))\n",
    "check = np.allclose(np.dot(A, x), B)\n",
    "if check:\n",
    "    print(\"Проверка непосредственной подстановкой: Решение верно.\")\n",
    "else:\n",
    "    print(\"Проверка непосредственной подстановкой: Решение неверно.\")\n",
    "x_check = np.linalg.solve(A, B)\n",
    "check2 = np.allclose(x, x_check)\n",
    "if check2:\n",
    "    print(\"Проверка с использованием np.linalg.solve: Решение верно.\")\n",
    "else:\n",
    "    print(\"Проверка с использованием np.linalg.solve: Решение неверно.\")"
   ]
  },
  {
   "cell_type": "markdown",
   "metadata": {},
   "source": [
    "4Решить систему методом простых итераций с точностью до10−3.   Проверить   выполнение   достаточного   условия   сходимости.Если условие не выполняется, в программе выполнить эквивалент-ные   преобразования   системы,   после   этого   привести   к   удобномудля   итераций   виду.   Оформить  итерации   в   виде   таблицы   (можнопользоваться модулями PrettyTable или Pandas)\n",
    "\n",
    "3.2x1−2.5x2+3.7x3=6.5\n",
    "0.5x1+0.34x2+1.7x3=−0.24\n",
    "1.6x1+2.3x2−1.5x3=4.3\n"
   ]
  },
  {
   "cell_type": "code",
   "execution_count": 21,
   "metadata": {},
   "outputs": [
    {
     "name": "stdout",
     "output_type": "stream",
     "text": [
      "Таблица с итерациями\n",
      "         x_1       x_2       x_3     norma\n",
      "0   0.902778 -0.102564  0.955556  0.887108\n",
      "1   0.376116 -0.989672  0.686990  0.640668\n",
      "2   0.206105 -0.682026  1.327658  0.429116\n",
      "3  -0.016305 -1.111142  1.230865  0.298405\n",
      "4  -0.115563 -0.993298  1.529270  0.195581\n",
      "5  -0.227992 -1.188879  1.504330  0.139939\n",
      "6  -0.283086 -1.146737  1.644269  0.089893\n",
      "7  -0.340366 -1.236630  1.642319  0.066311\n",
      "8  -0.370577 -1.222974  1.708630  0.041720\n",
      "9  -0.399912 -1.264693  1.712392  0.031754\n",
      "10 -0.416331 -1.261158  1.744145  0.019561\n",
      "11 -0.431421 -1.280719  1.748176  0.015363\n",
      "12 -0.440285 -1.280423  1.763539  0.009267\n",
      "13 -0.448077 -1.289690  1.766539  0.007507\n",
      "14 -0.452836 -1.290205  1.774047  0.004437\n",
      "15 -0.456873 -1.294641  1.776002  0.003703\n",
      "16 -0.459418 -1.295199  1.779705  0.002146\n",
      "17 -0.461515 -1.297346  1.780895  0.001842\n",
      "18 -0.462872 -1.297762  1.782738  0.001092\n",
      "19 -0.463963 -1.298811  1.783433  0.000924\n",
      "Матрица A\n",
      "[[ 3.2  -2.5   3.7 ]\n",
      " [ 0.5   0.34  1.7 ]\n",
      " [ 1.6   2.3  -1.5 ]]\n",
      "Вектор ответов B\n",
      "[ 6.5  -0.24  4.3 ]\n",
      "Решения X\n",
      "[[-0.46396322]\n",
      " [-1.29881111]\n",
      " [ 1.78343299]]\n"
     ]
    }
   ],
   "source": [
    "import numpy as np\n",
    "import pandas as pd\n",
    "\n",
    "def simple_iteration():\n",
    "    matrix_1= np.array([[3.2, -2.5, 3.7], [0.5, 0.34, 1.7], [1.6, 2.3, -1.5]])\n",
    "\n",
    "    # Правая часть уравнений (вектор B)\n",
    "    vector_1 = np.array([6.5, -0.24, 4.3])\n",
    "\n",
    "    # Создаем новую матрицу A' и вектор B', чтобы учесть правую часть\n",
    "    matrix = matrix_1.copy()\n",
    "    vector = vector_1.copy()\n",
    "\n",
    "    # Проходим по каждой строке и увеличиваем главный диагональный элемент A_prime[i, i] так, чтобы он был больше суммы остальных элементов в строке\n",
    "    for i in range(A.shape[0]):\n",
    "        diagonal_element = abs(matrix[i, i])\n",
    "        off_diagonal_sum = sum(abs(matrix[i, :])) - diagonal_element\n",
    "        while diagonal_element <= off_diagonal_sum:\n",
    "            diagonal_element += 1.0  # Увеличиваем главный диагональный элемент на 1\n",
    "        matrix[i, i] = diagonal_element\n",
    "        solutions = np.zeros((3, 1))\n",
    "        vector_c = np.zeros((3, 1))\n",
    "        tmp_matrix = np.zeros((3, 3))\n",
    "    \n",
    "    for i in range(3):\n",
    "        for j in range(3):\n",
    "            if i != j:\n",
    "                tmp_matrix[i, j] = -matrix[i, j] / matrix[i, i]\n",
    "            else:\n",
    "                tmp_matrix[i, j] = 0\n",
    "    \n",
    "    for i in range(3):\n",
    "        vector_c[i] = vector[i] / matrix[i, i]\n",
    "    \n",
    "    tmp_solutions = np.dot(tmp_matrix, solutions) + vector_c\n",
    "    accuracy = 0.001\n",
    "    df = pd.DataFrame({\"x_1\": [], \"x_2\": [], \"x_3\": [], \"norma\": []})\n",
    "    \n",
    "    while np.linalg.norm(tmp_solutions - solutions, np.inf) > accuracy:\n",
    "        solutions = tmp_solutions\n",
    "        tmp_solutions = np.dot(tmp_matrix, solutions) + vector_c\n",
    "        df = df._append({\"x_1\": solutions[0][0], \"x_2\": solutions[1][0], \"x_3\": solutions[2][0],\n",
    "                         \"norma\": np.linalg.norm(tmp_solutions - solutions, np.inf)}, ignore_index=True)\n",
    "    \n",
    "    print(\"Таблица с итерациями\")\n",
    "    print(df)\n",
    "    \n",
    "    print('Матрица A')\n",
    "    print(matrix_1)\n",
    "    print('Вектор ответов B')\n",
    "    print(vector_1)\n",
    "    print('Решения X')\n",
    "    print(solutions)\n",
    "  \n",
    "\n",
    "simple_iteration()\n"
   ]
  },
  {
   "cell_type": "markdown",
   "metadata": {},
   "source": [
    "Найти псевдорешение системы:\n",
    "\n",
    "3.2x1−2.5x2+3.7x3=6.5\n",
    "\n",
    "0.5x1+0.34x2+1.7x3=−0.24\n",
    "\n",
    "1.6x1+2.3x2−1.5x3=4.3\n",
    "\n",
    "3.6x1+1.8x2−4.7x3=3.8"
   ]
  },
  {
   "cell_type": "code",
   "execution_count": 5,
   "metadata": {},
   "outputs": [
    {
     "name": "stdout",
     "output_type": "stream",
     "text": [
      "\n",
      "Псевдорешение:\n",
      " [4.31936277 0.85634867 0.93090771]\n"
     ]
    }
   ],
   "source": [
    "# Матрица коэффициентов A\n",
    "A = np.array([[3.2, -2.5, 3.7],\n",
    "              [0.5, 0.34, 1.7],\n",
    "              [1.6, 2.3, -1.5],\n",
    "              [3.6, 1.8, -4.7]])\n",
    "\n",
    "# Вектор правой части b\n",
    "b = np.array([6.5, -0.24, 4.3, 3.8])\n",
    "\n",
    "# Вектор правой части b\n",
    "b = np.array([6.5, -0.24, 4.3, 3.8])\n",
    "matrix_A_5_transp = A.transpose()\n",
    "tmp_1 = np.dot(matrix_A_5_transp, A)# A_transp * A \n",
    "tmp_2 = np.linalg.inv(tmp_1)# ( A_transp * A )^-1\n",
    "tmp_3 = np.dot(np.dot(tmp_2, matrix_A_5_transp), B)# ( A_transp * A )^-1 * A_transp * B\n",
    "print(\"\\nПсевдорешение:\\n\", tmp_3)"
   ]
  }
 ],
 "metadata": {
  "kernelspec": {
   "display_name": "myenv",
   "language": "python",
   "name": "python3"
  },
  "language_info": {
   "codemirror_mode": {
    "name": "ipython",
    "version": 3
   },
   "file_extension": ".py",
   "mimetype": "text/x-python",
   "name": "python",
   "nbconvert_exporter": "python",
   "pygments_lexer": "ipython3",
   "version": "3.8.0"
  }
 },
 "nbformat": 4,
 "nbformat_minor": 2
}
