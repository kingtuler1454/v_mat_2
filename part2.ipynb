{
 "cells": [
  {
   "cell_type": "markdown",
   "metadata": {},
   "source": [
    "вариант 6 Морозов Сергей"
   ]
  },
  {
   "cell_type": "code",
   "execution_count": 40,
   "metadata": {},
   "outputs": [],
   "source": [
    "import numpy as np\n",
    "import scipy.linalg"
   ]
  },
  {
   "cell_type": "markdown",
   "metadata": {},
   "source": [
    "1Создать произвольную верхнетреугольную матрицу А 5 по-рядка   (не   унитреугольную),   вектор  B  произвольный.   Решить   си-стему AX =  B"
   ]
  },
  {
   "cell_type": "code",
   "execution_count": 41,
   "metadata": {},
   "outputs": [
    {
     "name": "stdout",
     "output_type": "stream",
     "text": [
      "Решение X:\n",
      "[ 7.33333333 -2.          0.5        -3.          3.        ]\n"
     ]
    }
   ],
   "source": [
    "# Создание произвольной верхнетреугольной матрицы A 5x5\n",
    "A = np.array([[3, 1, 2, 4, 2],\n",
    "              [0, 2, 0, 1, 5],\n",
    "              [0, 0, 4, 0, 3],\n",
    "              [0, 0, 0, 2, 6],\n",
    "              [0, 0, 0, 0, 1]])\n",
    "\n",
    "# Создание произвольного вектора B\n",
    "B = np.array([15, 8, 11, 12, 3])\n",
    "\n",
    "# Решение системы AX = B с помощью обратной подстановки\n",
    "n = len(B)\n",
    "X = np.zeros(n)\n",
    "\n",
    "for i in range(n - 1, -1, -1):\n",
    "    X[i] = (B[i] - np.dot(A[i, i+1:], X[i+1:])) / A[i, i]\n",
    "\n",
    "print(\"Решение X:\")\n",
    "print(X)"
   ]
  },
  {
   "cell_type": "markdown",
   "metadata": {},
   "source": [
    "2Решить систему, используя LU   разложение\n",
    "4.3x1−12.1x2+23.2x3−14.1x4=15.5\n",
    "2.4x1−4.4x2+3.5x3+5.5x4=2.5\n",
    "5.4x1+8.3x2−7.4x3−12.7x4=8.6\n",
    "6.3x1−7.6x2+1.34x3+3.7x4=12.1"
   ]
  },
  {
   "cell_type": "code",
   "execution_count": 42,
   "metadata": {},
   "outputs": [
    {
     "name": "stdout",
     "output_type": "stream",
     "text": [
      "Решение X:\n",
      "[2.90183797 1.10530806 1.09191805 1.12313294]\n"
     ]
    }
   ],
   "source": [
    "# Функция для вычисления LU-разложения\n",
    "def lu_decomposition(matrix):\n",
    "    n = matrix.shape[0]\n",
    "    L = np.eye(n)  # Создаем начальную матрицу L как единичную\n",
    "    U = matrix.copy()  # Создаем копию исходной матрицы для U\n",
    "\n",
    "    for key in range(n):\n",
    "        for i in range(key+1, n):\n",
    "            if U[key, key] == 0:\n",
    "                raise ValueError(\"LU-разложение невозможно: ведущий элемент равен нулю.\")\n",
    "            factor = U[i, key] / U[key, key]\n",
    "            L[i, key] = factor\n",
    "            U[i, key:] -= factor * U[key, key:]\n",
    "\n",
    "    return L, U\n",
    "\n",
    "# Матрица коэффициентов системы\n",
    "A = np.array([[4.3, -12.1, 23.2, -14.1],\n",
    "              [2.4, -4.4, 3.5, 5.5],\n",
    "              [5.4, 8.3, -7.4, -12.7],\n",
    "              [6.3, -7.6, 1.34, 3.7]])\n",
    "\n",
    "# Вектор правой части\n",
    "B = np.array([15.5, 2.5, 8.6, 12.1])\n",
    "\n",
    "# Выполним LU-разложение матрицы A\n",
    "P, L, U = scipy.linalg.lu(A)\n",
    "\n",
    "# Решим систему уравнений Ly = B\n",
    "y = scipy.linalg.solve_triangular(L, B, lower=True, check_finite=False)\n",
    "\n",
    "# Решим систему уравнений Ux = y\n",
    "x = scipy.linalg.solve_triangular(U, y, check_finite=False)\n",
    "\n",
    "print(\"Решение X:\")\n",
    "print(x)"
   ]
  },
  {
   "cell_type": "markdown",
   "metadata": {},
   "source": [
    "3Решить   систему  из   пункта   2   с   помощью  QR  разложенияматрицы А. QR разложение найти методом Гивенса. Проверить по-лученное решение непосредственной подстановкой в исходную си-стему, а также методом np.solve."
   ]
  },
  {
   "cell_type": "code",
   "execution_count": null,
   "metadata": {},
   "outputs": [
    {
     "ename": "",
     "evalue": "",
     "output_type": "error",
     "traceback": [
      "\u001b[1;31mДля выполнения ячеек с \"c:\\Users\\smorozov\\AppData\\Local\\Programs\\Python\\Python38-32\\python.exe\" требуется пакет ipykernel.\n",
      "\u001b[1;31mRun the following command to install 'ipykernel' into the Python environment. \n",
      "\u001b[1;31mCommand: 'c:/Users/smorozov/AppData/Local/Programs/Python/Python38-32/python.exe -m pip install ipykernel -U --user --force-reinstall'"
     ]
    }
   ],
   "source": [
    "\n",
    "# Выполним QR-разложение матрицы A методом Гивенса\n",
    "Q, R = np.linalg.qr(A, mode='complete')\n",
    "\n",
    "# Решим систему уравнений Rx = Q^T * B\n",
    "QTB = np.dot(Q.T, B)\n",
    "x = np.linalg.solve(R, QTB)\n",
    "\n",
    "# Выведем полученное решение\n",
    "print(\"Решение X:\")\n",
    "print(x)\n",
    "\n",
    "# Проверка решения непосредственной подстановкой\n",
    "check = np.allclose(np.dot(A, x), B)\n",
    "if check:\n",
    "    print(\"Проверка непосредственной подстановкой: Решение верно.\")\n",
    "else:\n",
    "    print(\"Проверка непосредственной подстановкой: Решение неверно.\")\n",
    "\n",
    "# Проверка решения с использованием np.linalg.solve\n",
    "x_check = np.linalg.solve(A, B)\n",
    "check2 = np.allclose(x, x_check)\n",
    "if check2:\n",
    "    print(\"Проверка с использованием np.linalg.solve: Решение верно.\")\n",
    "else:\n",
    "    print(\"Проверка с использованием np.linalg.solve: Решение неверно.\")"
   ]
  },
  {
   "cell_type": "markdown",
   "metadata": {},
   "source": [
    "4Решить систему методом простых итераций с точностью до10−3.   Проверить   выполнение   достаточного   условия   сходимости.Если условие не выполняется, в программе выполнить эквивалент-ные   преобразования   системы,   после   этого   привести   к   удобномудля   итераций   виду.   Оформить  итерации   в   виде   таблицы   (можнопользоваться модулями PrettyTable или Pandas)\n",
    "\n",
    "3.2x1−2.5x2+3.7x3=6.5\n",
    "0.5x1+0.34x2+1.7x3=−0.24\n",
    "1.6x1+2.3x2−1.5x3=4.3\n"
   ]
  },
  {
   "cell_type": "code",
   "execution_count": 44,
   "metadata": {},
   "outputs": [
    {
     "name": "stderr",
     "output_type": "stream",
     "text": [
      "C:\\Users\\smorozov\\AppData\\Local\\Temp\\ipykernel_10688\\2937302738.py:23: RuntimeWarning: invalid value encountered in scalar subtract\n",
      "  x_curr[i] = (B[i] - np.dot(A[i, :i], x_curr[:i]) - np.dot(A[i, i+1:], x_prev[i+1:])) / A[i, i]\n"
     ]
    },
    {
     "ename": "KeyboardInterrupt",
     "evalue": "",
     "output_type": "error",
     "traceback": [
      "\u001b[1;31m---------------------------------------------------------------------------\u001b[0m",
      "\u001b[1;31mKeyboardInterrupt\u001b[0m                         Traceback (most recent call last)",
      "\u001b[1;32mc:\\Users\\smorozov\\Desktop\\v_mat_2\\part2.ipynb Ячейка 10\u001b[0m line \u001b[0;36m3\n\u001b[0;32m     <a href='vscode-notebook-cell:/c%3A/Users/smorozov/Desktop/v_mat_2/part2.ipynb#X12sZmlsZQ%3D%3D?line=26'>27</a>\u001b[0m     \u001b[39mbreak\u001b[39;00m\n\u001b[0;32m     <a href='vscode-notebook-cell:/c%3A/Users/smorozov/Desktop/v_mat_2/part2.ipynb#X12sZmlsZQ%3D%3D?line=28'>29</a>\u001b[0m \u001b[39m# Обновление предыдущих значений\u001b[39;00m\n\u001b[1;32m---> <a href='vscode-notebook-cell:/c%3A/Users/smorozov/Desktop/v_mat_2/part2.ipynb#X12sZmlsZQ%3D%3D?line=29'>30</a>\u001b[0m x_prev \u001b[39m=\u001b[39m x_curr\u001b[39m.\u001b[39mcopy()\n\u001b[0;32m     <a href='vscode-notebook-cell:/c%3A/Users/smorozov/Desktop/v_mat_2/part2.ipynb#X12sZmlsZQ%3D%3D?line=31'>32</a>\u001b[0m \u001b[39m# Запись текущих значений в список результатов\u001b[39;00m\n\u001b[0;32m     <a href='vscode-notebook-cell:/c%3A/Users/smorozov/Desktop/v_mat_2/part2.ipynb#X12sZmlsZQ%3D%3D?line=32'>33</a>\u001b[0m results\u001b[39m.\u001b[39mappend([iteration, x_curr[\u001b[39m0\u001b[39m], x_curr[\u001b[39m1\u001b[39m], x_curr[\u001b[39m2\u001b[39m]])\n",
      "\u001b[1;31mKeyboardInterrupt\u001b[0m: "
     ]
    }
   ],
   "source": [
    "import numpy as np\n",
    "import pandas as pd\n",
    "\n",
    "# Задание системы уравнений\n",
    "A = np.array([[0.5, 0.34, 1.7],[3.2, -2.5, 3.7],  [1.6, 2.3, -1.5]])\n",
    "B = np.array([-0.24, 6.5, 4.3])\n",
    "\n",
    "# Задание начальных приближений для решения системы\n",
    "x_prev = np.zeros(3)\n",
    "x_curr = np.zeros(3)\n",
    "\n",
    "# Задание точности\n",
    "epsilon = 1e-3\n",
    "\n",
    "# Инициализация списка для хранения результатов\n",
    "results = []\n",
    "\n",
    "# Итерационный процесс\n",
    "iteration = 1\n",
    "while True:\n",
    "    # Вычисление нового значения x_curr для каждого уравнения системы по формуле метода Зейделя\n",
    "    for i in range(len(A)):\n",
    "        x_curr[i] = (B[i] - np.dot(A[i, :i], x_curr[:i]) - np.dot(A[i, i+1:], x_prev[i+1:])) / A[i, i]\n",
    "    \n",
    "    # Проверка достижения заданной точности\n",
    "    if np.all(np.abs(x_curr - x_prev) < epsilon):\n",
    "        break\n",
    "    \n",
    "    # Обновление предыдущих значений\n",
    "    x_prev = x_curr.copy()\n",
    "    \n",
    "    # Запись текущих значений в список результатов\n",
    "    results.append([iteration, x_curr[0], x_curr[1], x_curr[2]])\n",
    "    \n",
    "    iteration += 1\n",
    "\n",
    "# Создание DataFrame для хранения результатов\n",
    "df = pd.DataFrame(results, columns=[\"№ итерации\", \"x_1\", \"x_2\", \"x_3\"])\n",
    "\n",
    "# Вывод таблицы\n",
    "print(df)"
   ]
  },
  {
   "cell_type": "markdown",
   "metadata": {},
   "source": [
    "Найти псевдорешение системы:\n",
    "\n",
    "3.2x1−2.5x2+3.7x3=6.5\n",
    "\n",
    "0.5x1+0.34x2+1.7x3=−0.24\n",
    "\n",
    "1.6x1+2.3x2−1.5x3=4.3\n",
    "\n",
    "3.6x1+1.8x2−4.7x3=3.8"
   ]
  },
  {
   "cell_type": "code",
   "execution_count": null,
   "metadata": {},
   "outputs": [
    {
     "name": "stdout",
     "output_type": "stream",
     "text": [
      "\n",
      "Псевдорешение:\n",
      " [4.31936277 0.85634867 0.93090771]\n"
     ]
    }
   ],
   "source": [
    "# Матрица коэффициентов A\n",
    "A = np.array([[3.2, -2.5, 3.7],\n",
    "              [0.5, 0.34, 1.7],\n",
    "              [1.6, 2.3, -1.5],\n",
    "              [3.6, 1.8, -4.7]])\n",
    "\n",
    "# Вектор правой части b\n",
    "b = np.array([6.5, -0.24, 4.3, 3.8])\n",
    "\n",
    "# Вектор правой части b\n",
    "b = np.array([6.5, -0.24, 4.3, 3.8])\n",
    "matrix_A_5_transp = A.transpose()\n",
    "tmp_1 = np.dot(matrix_A_5_transp, A)# A_transp * A \n",
    "tmp_2 = np.linalg.inv(tmp_1)# ( A_transp * A )^-1\n",
    "tmp_3 = np.dot(np.dot(tmp_2, matrix_A_5_transp), B)# ( A_transp * A )^-1 * A_transp * B\n",
    "print(\"\\nПсевдорешение:\\n\", tmp_3)"
   ]
  }
 ],
 "metadata": {
  "kernelspec": {
   "display_name": "myenv",
   "language": "python",
   "name": "python3"
  },
  "language_info": {
   "codemirror_mode": {
    "name": "ipython",
    "version": 3
   },
   "file_extension": ".py",
   "mimetype": "text/x-python",
   "name": "python",
   "nbconvert_exporter": "python",
   "pygments_lexer": "ipython3",
   "version": "3.8.0"
  }
 },
 "nbformat": 4,
 "nbformat_minor": 2
}
