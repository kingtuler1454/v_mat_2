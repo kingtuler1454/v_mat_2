{
 "cells": [
  {
   "cell_type": "markdown",
   "metadata": {},
   "source": [
    "вариант 6 Морозов Сергей"
   ]
  },
  {
   "cell_type": "code",
   "execution_count": 9,
   "metadata": {},
   "outputs": [],
   "source": [
    "import numpy as np\n",
    "import scipy.linalg"
   ]
  },
  {
   "cell_type": "markdown",
   "metadata": {},
   "source": [
    "Создать произвольную верхнетреугольную матрицу А 5 по-рядка   (не   унитреугольную),   вектор  B  произвольный.   Решить   си-стему AX =  B"
   ]
  },
  {
   "cell_type": "code",
   "execution_count": 10,
   "metadata": {},
   "outputs": [
    {
     "name": "stdout",
     "output_type": "stream",
     "text": [
      "Решение X:\n",
      "[ 7.33333333 -2.          0.5        -3.          3.        ]\n"
     ]
    }
   ],
   "source": [
    "# Создание произвольной верхнетреугольной матрицы A 5x5\n",
    "A = np.array([[3, 1, 2, 4, 2],\n",
    "              [0, 2, 0, 1, 5],\n",
    "              [0, 0, 4, 0, 3],\n",
    "              [0, 0, 0, 2, 6],\n",
    "              [0, 0, 0, 0, 1]])\n",
    "\n",
    "# Создание произвольного вектора B\n",
    "B = np.array([15, 8, 11, 12, 3])\n",
    "\n",
    "# Решение системы AX = B с помощью обратной подстановки\n",
    "n = len(B)\n",
    "X = np.zeros(n)\n",
    "\n",
    "for i in range(n - 1, -1, -1):\n",
    "    X[i] = (B[i] - np.dot(A[i, i+1:], X[i+1:])) / A[i, i]\n",
    "\n",
    "print(\"Решение X:\")\n",
    "print(X)"
   ]
  },
  {
   "cell_type": "markdown",
   "metadata": {},
   "source": [
    "Решить систему, используя LU   разложение\n",
    "4.3x1−12.1x2+23.2x3−14.1x4=15.5\n",
    "2.4x1−4.4x2+3.5x3+5.5x4=2.5\n",
    "5.4x1+8.3x2−7.4x3−12.7x4=8.6\n",
    "6.3x1−7.6x2+1.34x3+3.7x4=12.1"
   ]
  },
  {
   "cell_type": "code",
   "execution_count": 11,
   "metadata": {},
   "outputs": [
    {
     "name": "stdout",
     "output_type": "stream",
     "text": [
      "Решение X:\n",
      "[2.90183797 1.10530806 1.09191805 1.12313294]\n"
     ]
    }
   ],
   "source": [
    "# Матрица коэффициентов системы\n",
    "A = np.array([[4.3, -12.1, 23.2, -14.1],\n",
    "              [2.4, -4.4, 3.5, 5.5],\n",
    "              [5.4, 8.3, -7.4, -12.7],\n",
    "              [6.3, -7.6, 1.34, 3.7]])\n",
    "\n",
    "# Вектор правой части\n",
    "B = np.array([15.5, 2.5, 8.6, 12.1])\n",
    "\n",
    "# Выполним LU-разложение матрицы A\n",
    "P, L, U = scipy.linalg.lu(A)\n",
    "\n",
    "# Решим систему уравнений Ly = B\n",
    "y = scipy.linalg.solve_triangular(L, B, lower=True, check_finite=False)\n",
    "\n",
    "# Решим систему уравнений Ux = y\n",
    "x = scipy.linalg.solve_triangular(U, y, check_finite=False)\n",
    "\n",
    "print(\"Решение X:\")\n",
    "print(x)"
   ]
  },
  {
   "cell_type": "markdown",
   "metadata": {},
   "source": [
    "Решить   систему  из   пункта   2   с   помощью  QR  разложенияматрицы А. QR разложение найти методом Гивенса. Проверить по-лученное решение непосредственной подстановкой в исходную си-стему, а также методом np.solve."
   ]
  },
  {
   "cell_type": "code",
   "execution_count": 12,
   "metadata": {},
   "outputs": [
    {
     "name": "stdout",
     "output_type": "stream",
     "text": [
      "Решение X:\n",
      "[ 1.17377014 -0.97122206 -0.40615705 -0.57615922]\n",
      "Проверка непосредственной подстановкой: Решение верно.\n",
      "Проверка с использованием np.linalg.solve: Решение верно.\n"
     ]
    }
   ],
   "source": [
    "# Выполним QR-разложение матрицы A методом Гивенса\n",
    "Q, R = np.linalg.qr(A, mode='complete')\n",
    "\n",
    "# Решим систему уравнений Rx = Q^T * B\n",
    "QTB = np.dot(Q.T, B)\n",
    "x = np.linalg.solve(R, QTB)\n",
    "\n",
    "# Выведем полученное решение\n",
    "print(\"Решение X:\")\n",
    "print(x)\n",
    "\n",
    "# Проверка решения непосредственной подстановкой\n",
    "check = np.allclose(np.dot(A, x), B)\n",
    "if check:\n",
    "    print(\"Проверка непосредственной подстановкой: Решение верно.\")\n",
    "else:\n",
    "    print(\"Проверка непосредственной подстановкой: Решение неверно.\")\n",
    "\n",
    "# Проверка решения с использованием np.linalg.solve\n",
    "x_check = np.linalg.solve(A, B)\n",
    "check2 = np.allclose(x, x_check)\n",
    "if check2:\n",
    "    print(\"Проверка с использованием np.linalg.solve: Решение верно.\")\n",
    "else:\n",
    "    print(\"Проверка с использованием np.linalg.solve: Решение неверно.\")"
   ]
  },
  {
   "cell_type": "markdown",
   "metadata": {},
   "source": [
    "Решить систему методом простых итераций с точностью до10−3.   Проверить   выполнение   достаточного   условия   сходимости.Если условие не выполняется, в программе выполнить эквивалент-ные   преобразования   системы,   после   этого   привести   к   удобномудля   итераций   виду.   Оформить  итерации   в   виде   таблицы   (можнопользоваться модулями PrettyTable или Pandas)\n",
    "\n",
    "3.2x1−2.5x2+3.7x3=6.5\n",
    "0.5x1+0.34x2+1.7x3=−0.24\n",
    "1.6x1+2.3x2−1.5x3=4.3\n"
   ]
  },
  {
   "cell_type": "code",
   "execution_count": 13,
   "metadata": {},
   "outputs": [
    {
     "ename": "KeyboardInterrupt",
     "evalue": "",
     "output_type": "error",
     "traceback": [
      "\u001b[1;31m---------------------------------------------------------------------------\u001b[0m",
      "\u001b[1;31mKeyboardInterrupt\u001b[0m                         Traceback (most recent call last)",
      "\u001b[1;32mc:\\Users\\smorozov\\Desktop\\v_mat_2\\part2.ipynb Ячейка 10\u001b[0m line \u001b[0;36m1\n\u001b[0;32m     <a href='vscode-notebook-cell:/c%3A/Users/smorozov/Desktop/v_mat_2/part2.ipynb#X24sZmlsZQ%3D%3D?line=16'>17</a>\u001b[0m \u001b[39m# Итерации\u001b[39;00m\n\u001b[0;32m     <a href='vscode-notebook-cell:/c%3A/Users/smorozov/Desktop/v_mat_2/part2.ipynb#X24sZmlsZQ%3D%3D?line=17'>18</a>\u001b[0m iterations \u001b[39m=\u001b[39m \u001b[39m0\u001b[39m\n\u001b[1;32m---> <a href='vscode-notebook-cell:/c%3A/Users/smorozov/Desktop/v_mat_2/part2.ipynb#X24sZmlsZQ%3D%3D?line=18'>19</a>\u001b[0m \u001b[39mwhile\u001b[39;00m \u001b[39mTrue\u001b[39;00m:\n\u001b[0;32m     <a href='vscode-notebook-cell:/c%3A/Users/smorozov/Desktop/v_mat_2/part2.ipynb#X24sZmlsZQ%3D%3D?line=19'>20</a>\u001b[0m     x1_new \u001b[39m=\u001b[39m f1(x2, x3)\n\u001b[0;32m     <a href='vscode-notebook-cell:/c%3A/Users/smorozov/Desktop/v_mat_2/part2.ipynb#X24sZmlsZQ%3D%3D?line=20'>21</a>\u001b[0m     x2_new \u001b[39m=\u001b[39m f2(x1, x3)\n",
      "\u001b[1;31mKeyboardInterrupt\u001b[0m: "
     ]
    }
   ],
   "source": [
    "# Исходная система уравнений\n",
    "def f1(x2, x3):\n",
    "    return (6.5 + 2.5 * x2 - 3.7 * x3) / 3.2\n",
    "\n",
    "def f2(x1, x3):\n",
    "    return (-0.24 - 0.5 * x1 - 1.7 * x3) / 0.34\n",
    "\n",
    "def f3(x1, x2):\n",
    "    return (4.3 - 1.6 * x1 - 2.3 * x2) / 1.5\n",
    "\n",
    "# Начальное приближение\n",
    "x1, x2, x3 = 0, 0, 0\n",
    "\n",
    "# Заданная точность\n",
    "tolerance = 1e-3\n",
    "\n",
    "# Итерации\n",
    "iterations = 0\n",
    "while True:\n",
    "    x1_new = f1(x2, x3)\n",
    "    x2_new = f2(x1, x3)\n",
    "    x3_new = f3(x1, x2)\n",
    "    \n",
    "    # Проверка сходимости\n",
    "    if (np.abs(x1_new - x1) < tolerance and\n",
    "        np.abs(x2_new - x2) < tolerance and\n",
    "        np.abs(x3_new - x3) < tolerance):\n",
    "        break\n",
    "    \n",
    "    x1, x2, x3 = x1_new, x2_new, x3_new\n",
    "    iterations += 1\n",
    "\n",
    "print(f\"Решение X: x1 = {x1}, x2 = {x2}, x3 = {x3}\")\n",
    "print(f\"Количество итераций: {iterations}\")"
   ]
  },
  {
   "cell_type": "markdown",
   "metadata": {},
   "source": [
    "Найти псевдорешение системы:\n",
    "\n",
    "3.2x1−2.5x2+3.7x3=6.5\n",
    "\n",
    "0.5x1+0.34x2+1.7x3=−0.24\n",
    "\n",
    "1.6x1+2.3x2−1.5x3=4.3\n",
    "\n",
    "3.6x1+1.8x2−4.7x3=3.8"
   ]
  },
  {
   "cell_type": "code",
   "execution_count": 14,
   "metadata": {},
   "outputs": [
    {
     "name": "stdout",
     "output_type": "stream",
     "text": [
      "Псевдорешение x:\n",
      "[1.66489764 0.38193972 0.44553653]\n"
     ]
    }
   ],
   "source": [
    "# Матрица коэффициентов A\n",
    "A = np.array([[3.2, -2.5, 3.7],\n",
    "              [0.5, 0.34, 1.7],\n",
    "              [1.6, 2.3, -1.5],\n",
    "              [3.6, 1.8, -4.7]])\n",
    "\n",
    "# Вектор правой части b\n",
    "b = np.array([6.5, -0.24, 4.3, 3.8])\n",
    "\n",
    "# Находим псевдорешение x с использованием МНК\n",
    "x_pseudo = np.linalg.lstsq(A, b, rcond=None)[0]\n",
    "\n",
    "print(\"Псевдорешение x:\")\n",
    "print(x_pseudo)"
   ]
  }
 ],
 "metadata": {
  "kernelspec": {
   "display_name": "myenv",
   "language": "python",
   "name": "python3"
  },
  "language_info": {
   "codemirror_mode": {
    "name": "ipython",
    "version": 3
   },
   "file_extension": ".py",
   "mimetype": "text/x-python",
   "name": "python",
   "nbconvert_exporter": "python",
   "pygments_lexer": "ipython3",
   "version": "3.11.5"
  }
 },
 "nbformat": 4,
 "nbformat_minor": 2
}
